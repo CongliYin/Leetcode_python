{
 "cells": [
  {
   "cell_type": "markdown",
   "metadata": {},
   "source": [
    "# 类别1：数组题目\n",
    "### 题目编号包含：1，4，26"
   ]
  },
  {
   "cell_type": "markdown",
   "metadata": {},
   "source": [
    "**********"
   ]
  },
  {
   "cell_type": "markdown",
   "metadata": {},
   "source": [
    "### Leetcode#1：\t两数之和  \n",
    "* 给定一个整数数组 nums 和一个整数目标值 target，请你在该数组中找出 和为目标值 的那两个整数，并返回它们的数组下标。\n",
    "* 你可以假设每种输入只会对应一个答案。但是，数组中同一个元素不能使用两遍。\n",
    "* 你可以按任意顺序返回答案。\n",
    "* 来源：力扣（LeetCode） 链接：https://leetcode-cn.com/problems/two-sum"
   ]
  },
  {
   "cell_type": "markdown",
   "metadata": {},
   "source": [
    "#### 解法一：暴力求解，时间复杂度O(n**2)"
   ]
  },
  {
   "cell_type": "code",
   "execution_count": 2,
   "metadata": {},
   "outputs": [],
   "source": [
    "class Solution:\n",
    "    def twoSum(self, nums, target):\n",
    "        for i in range(len(nums)-1):\n",
    "            for j in range(i+1, len(nums)):\n",
    "                if nums[i]+nums[j] == target:\n",
    "                    return [i,j]"
   ]
  },
  {
   "cell_type": "markdown",
   "metadata": {},
   "source": [
    "#### 解法二：借助空间换时间，时间复杂度O(n)"
   ]
  },
  {
   "cell_type": "code",
   "execution_count": 3,
   "metadata": {},
   "outputs": [],
   "source": [
    "class Solution:\n",
    "    def twoSum(self, nums, target):\n",
    "        tmp_dic = {}\n",
    "        for i in range(len(nums)):\n",
    "            tmp_dic[nums[i]] = i\n",
    "        for j in range(len(nums)):\n",
    "            tmp = target - nums[j]\n",
    "            if tmp in nums and j != tmp_dic[tmp]:\n",
    "                return [j,tmp_dic[tmp]]"
   ]
  },
  {
   "cell_type": "markdown",
   "metadata": {},
   "source": [
    "********"
   ]
  },
  {
   "cell_type": "markdown",
   "metadata": {},
   "source": [
    "### Leetcode#4：寻找两个正序数组的中位数\n",
    "* 给定两个大小分别为 m 和 n 的正序（从小到大）数组 nums1 和 nums2。请你找出并返回这两个正序数组的 中位数 \n",
    "* 链接：https://leetcode-cn.com/problems/median-of-two-sorted-arrays/"
   ]
  },
  {
   "cell_type": "markdown",
   "metadata": {},
   "source": [
    "#### 解法：顺序遍历合并数组，时间复杂度O(m+n)"
   ]
  },
  {
   "cell_type": "code",
   "execution_count": 10,
   "metadata": {},
   "outputs": [],
   "source": [
    "class Solution:\n",
    "    def findMedianSortedArrays(self, nums1, nums2):\n",
    "        # 交叉排序合并\n",
    "        i = 0\n",
    "        j = 0\n",
    "        MedianSortedArrays = []\n",
    "        while i<len(nums1) and j < len(nums2):\n",
    "            if nums1[i] <= nums2[j]:\n",
    "                MedianSortedArrays.append(nums1[i])\n",
    "                i += 1  \n",
    "            else:\n",
    "                MedianSortedArrays.append(nums2[j])\n",
    "                j += 1\n",
    "        # 补全两数组各自剩余的数组\n",
    "        if i <= len(nums1)-1:\n",
    "            for case in nums1[i:]:\n",
    "                MedianSortedArrays.append(case)\n",
    "        if j <= len(nums2)-1:\n",
    "            for case in nums2[j:]:\n",
    "                MedianSortedArrays.append(case)\n",
    "        # 计算中位数\n",
    "        if len(MedianSortedArrays) % 2 == 0:\n",
    "            return (MedianSortedArrays[len(MedianSortedArrays)//2-1]+\n",
    "            MedianSortedArrays[len(MedianSortedArrays)//2])/2\n",
    "        else:\n",
    "            return MedianSortedArrays[len(MedianSortedArrays)//2]"
   ]
  },
  {
   "cell_type": "markdown",
   "metadata": {},
   "source": [
    "*********"
   ]
  },
  {
   "cell_type": "markdown",
   "metadata": {},
   "source": [
    "### Leetcode26：删除排序数组中的重复项\n",
    "* 给定一个排序数组，你需要在 原地 删除重复出现的元素，使得每个元素只出现一次，返回移除后数组的新长度。\n",
    "* 不要使用额外的数组空间，你必须在 原地 修改输入数组并在使用 O(1) 额外空间的条件下完成。\n",
    "* 力扣（LeetCode）链接：https://leetcode-cn.com/problems/remove-duplicates-from-sorted-array"
   ]
  },
  {
   "cell_type": "code",
   "execution_count": 11,
   "metadata": {},
   "outputs": [],
   "source": [
    "class Solution:\n",
    "    def removeDuplicates(self, nums):\n",
    "        i = 0\n",
    "        j = i+1\n",
    "        while i < len(nums) and j < len(nums):\n",
    "            if nums[j] == nums[i]:\n",
    "                j += 1\n",
    "            else:\n",
    "                nums[i+1] = nums[j]\n",
    "                i += 1\n",
    "        return i+1"
   ]
  },
  {
   "cell_type": "markdown",
   "metadata": {},
   "source": [
    "*********"
   ]
  },
  {
   "cell_type": "markdown",
   "metadata": {},
   "source": [
    "### Leetcode39： 组合总和\n",
    "* 给定一个无重复元素的数组 candidates 和一个目标数 target ，找出 candidates 中所有可以使数字和为 target 的组合。\n",
    "* 所有数字（包括 target）都是正整数。\n",
    "* 解集不能包含重复的组合。 \n",
    "* 力扣（LeetCode）链接：https://leetcode-cn.com/problems/combination-sum/"
   ]
  },
  {
   "cell_type": "code",
   "execution_count": 2,
   "metadata": {},
   "outputs": [],
   "source": [
    "from typing import List\n",
    "class Solution:\n",
    "    def combinationSum(self, candidates: List[int], target: int) -> List[List[int]]:\n",
    "        path = []\n",
    "        res = []\n",
    "        if len(candidates) == 0:\n",
    "            return []\n",
    "\n",
    "        def dfs(begin, path, target):\n",
    "            if target < 0:\n",
    "                return \n",
    "            if 0 == target:\n",
    "                res.append(path)\n",
    "                return \n",
    "            \n",
    "            for i in range(begin, len(candidates)):\n",
    "                dfs(i, path+[candidates[i]], target-candidates[i])\n",
    "        \n",
    "        dfs(0, path, target)\n",
    "        return res "
   ]
  },
  {
   "cell_type": "code",
   "execution_count": null,
   "metadata": {},
   "outputs": [],
   "source": []
  }
 ],
 "metadata": {
  "kernelspec": {
   "display_name": "Python 3",
   "language": "python",
   "name": "python3"
  },
  "language_info": {
   "codemirror_mode": {
    "name": "ipython",
    "version": 3
   },
   "file_extension": ".py",
   "mimetype": "text/x-python",
   "name": "python",
   "nbconvert_exporter": "python",
   "pygments_lexer": "ipython3",
   "version": "3.6.4"
  }
 },
 "nbformat": 4,
 "nbformat_minor": 2
}
